{
 "cells": [
  {
   "cell_type": "code",
   "execution_count": 1,
   "metadata": {
    "collapsed": true
   },
   "outputs": [],
   "source": [
    "import pandas as pd\n",
    "import numpy as np\n",
    "import re\n",
    "\n",
    "from geopy.geocoders import Nominatim"
   ]
  },
  {
   "cell_type": "code",
   "execution_count": 29,
   "metadata": {
    "collapsed": true
   },
   "outputs": [],
   "source": [
    "df = pd.read_csv('data/KCPD_Crime_Data_2014.csv')"
   ]
  },
  {
   "cell_type": "code",
   "execution_count": null,
   "metadata": {
    "collapsed": true
   },
   "outputs": [],
   "source": [
    "# let's clean up those column headers\n",
    "\n",
    "def clean_cols(df):\n",
    "    new = []\n",
    "    \n",
    "    regex = r'(?m)\\s+|\\d*' # find spaces after words\n",
    "    regex2 = r'(?<!^)(?=[A-Z])' # Where there are capital lettesr\n",
    "    regex3 = r'__' # double underscores  \"dunderscores\"\n",
    "\n",
    "    for i in df.columns:\n",
    "        i = re.sub(regex,'',i)\n",
    "        i = re.sub(regex2,'_',i)\n",
    "        i = re.sub(regex3,'_',i)\n",
    "        new.append(i)\n",
    "        \n",
    "    df.columns = new\n",
    "    return df.columns"
   ]
  },
  {
   "cell_type": "code",
   "execution_count": null,
   "metadata": {
    "collapsed": true
   },
   "outputs": [],
   "source": [
    "clean_cols(df)"
   ]
  },
  {
   "cell_type": "markdown",
   "metadata": {},
   "source": [
    "Crime data is always best with maps but in order to have maps, we must find the coordiates of each zip code. Here is a way to do it in Python, but we may have to revert to `R` as this times out if wife is weak. Remember the `zipcode` package for `R` when the time comes"
   ]
  },
  {
   "cell_type": "code",
   "execution_count": 24,
   "metadata": {
    "collapsed": false
   },
   "outputs": [],
   "source": [
    "# this is a function to find the lat and longitude from zip code columns\n",
    "def lat_long(df):\n",
    "    locator = Nominatim()\n",
    "    lat = []\n",
    "    long = []\n",
    "    for i in df['Zip Code']:\n",
    "        location = locator.geocode(i)\n",
    "        lat.append(location.latitude)\n",
    "        long.append(location.longitude)\n",
    "    df['lat'] = lat\n",
    "    df['long']= long\n",
    "    \n",
    "    return df\n",
    "    "
   ]
  },
  {
   "cell_type": "code",
   "execution_count": 62,
   "metadata": {
    "collapsed": false
   },
   "outputs": [],
   "source": []
  },
  {
   "cell_type": "code",
   "execution_count": 63,
   "metadata": {
    "collapsed": false
   },
   "outputs": [
    {
     "data": {
      "text/plain": [
       "Index(['Report_No', 'Reported_Date', 'Reported_Time', 'From_Date', 'From_Time',\n",
       "       'To_Date', 'To_Time', 'Offense', 'I_B_R_S', 'Description', 'Beat',\n",
       "       'Address', 'City', 'Zip_Code', 'Rep_Dist', 'Area', 'D_V_Flag',\n",
       "       'Invl_No', 'Involvement', 'Race', 'Sex', 'Age', 'Location',\n",
       "       'Firearm_Used_Flag'],\n",
       "      dtype='object')"
      ]
     },
     "execution_count": 63,
     "metadata": {},
     "output_type": "execute_result"
    }
   ],
   "source": []
  },
  {
   "cell_type": "code",
   "execution_count": null,
   "metadata": {
    "collapsed": true
   },
   "outputs": [],
   "source": []
  }
 ],
 "metadata": {
  "kernelspec": {
   "display_name": "Python 3",
   "language": "python",
   "name": "python3"
  },
  "language_info": {
   "codemirror_mode": {
    "name": "ipython",
    "version": 3
   },
   "file_extension": ".py",
   "mimetype": "text/x-python",
   "name": "python",
   "nbconvert_exporter": "python",
   "pygments_lexer": "ipython3",
   "version": "3.5.1"
  }
 },
 "nbformat": 4,
 "nbformat_minor": 0
}
